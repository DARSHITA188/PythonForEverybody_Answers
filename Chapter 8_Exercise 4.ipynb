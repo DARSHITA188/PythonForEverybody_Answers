{
 "cells": [
  {
   "cell_type": "code",
   "execution_count": 1,
   "metadata": {},
   "outputs": [
    {
     "name": "stdout",
     "output_type": "stream",
     "text": [
      "Enter file: romeo.txt\n",
      "['Arise', 'But', 'It', 'Juliet', 'Who', 'already', 'and', 'and', 'and', 'breaks', 'east', 'envious', 'fair', 'grief', 'is', 'is', 'is', 'kill', 'light', 'moon', 'pale', 'sick', 'soft', 'sun', 'sun', 'the', 'the', 'the', 'through', 'what', 'window', 'with', 'yonder']\n"
     ]
    }
   ],
   "source": [
    "list0 = []\n",
    "list1 = []\n",
    "list2 = []\n",
    "list3 = []\n",
    "mainList = []\n",
    "file = input(\"Enter file: \")\n",
    "fhand = open(file)\n",
    "lines = fhand.read()\n",
    "for line in lines:\n",
    "    line = lines.split('\\n')\n",
    "    for word in line[0]:\n",
    "        list0 = line[0].split(' ')\n",
    "    for word in line[1]:\n",
    "        list1 = line[1].split(' ')\n",
    "    for word in line[2]:\n",
    "        list2 = line[2].split(' ')\n",
    "    for word in line[3]:\n",
    "        list3 = line[3].split(' ')\n",
    "mainList = list0+list1+list2+list3;\n",
    "mainList = sorted(mainList)\n",
    "print(mainList)\n",
    "    "
   ]
  },
  {
   "cell_type": "code",
   "execution_count": null,
   "metadata": {},
   "outputs": [],
   "source": []
  },
  {
   "cell_type": "code",
   "execution_count": null,
   "metadata": {},
   "outputs": [],
   "source": []
  }
 ],
 "metadata": {
  "kernelspec": {
   "display_name": "Python 3",
   "language": "python",
   "name": "python3"
  },
  "language_info": {
   "codemirror_mode": {
    "name": "ipython",
    "version": 3
   },
   "file_extension": ".py",
   "mimetype": "text/x-python",
   "name": "python",
   "nbconvert_exporter": "python",
   "pygments_lexer": "ipython3",
   "version": "3.7.3"
  }
 },
 "nbformat": 4,
 "nbformat_minor": 2
}
