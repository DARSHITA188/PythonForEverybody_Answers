{
 "cells": [
  {
   "cell_type": "code",
   "execution_count": 5,
   "metadata": {},
   "outputs": [
    {
     "name": "stdout",
     "output_type": "stream",
     "text": [
      "File name is: file.txt\n",
      "3 14\n",
      ", 14\n",
      "2 12\n",
      "4 8\n",
      "a 5\n",
      "k 4\n",
      "5 4\n",
      "0 4\n",
      "s 3\n",
      "+ 3\n",
      "x 2\n",
      "g 2\n",
      "f 2\n",
      "e 2\n",
      "d 2\n",
      "m 1\n",
      "l 1\n",
      "j 1\n",
      "c 1\n",
      "b 1\n",
      "6 1\n",
      "1 1\n"
     ]
    }
   ],
   "source": [
    "#This program counts the distribution of the hour of the day for each of\n",
    "#the messages.You can pull the hour from the “From” line by ﬁnding the\n",
    "#time string and then splitting that string into parts using the colon\n",
    "#character.\n",
    "\n",
    "import string\n",
    "file_name = input('File name is: ')\n",
    "\n",
    "try:\n",
    "\tfhandle = open(file_name)\n",
    "except:\n",
    "\tprint ('File cannot be opened:', file_name)\n",
    "\texit()\n",
    "\n",
    "letters = dict()\n",
    "for line in fhandle:\n",
    "\tline = line.translate(string.punctuation)\n",
    "\tline = line.translate(string.digits)\n",
    "\tline = line.lower()\n",
    "\tline = line.split()\n",
    "\tfor t in line:\n",
    "\t\tword = list(t)\n",
    "\t\tfor letter in word:\n",
    "\t\t\tletters[letter] = letters.get(letter,0) + 1\n",
    "\n",
    "letterlist = []\n",
    "for letter, count in letters.items():\n",
    "\tletterlist.append( (count, letter) )\n",
    "letterlist.sort(reverse=True)\n",
    "for count, letter in letterlist:\n",
    "\tprint (letter, count)\n"
   ]
  },
  {
   "cell_type": "code",
   "execution_count": null,
   "metadata": {},
   "outputs": [],
   "source": []
  }
 ],
 "metadata": {
  "kernelspec": {
   "display_name": "Python 3",
   "language": "python",
   "name": "python3"
  },
  "language_info": {
   "codemirror_mode": {
    "name": "ipython",
    "version": 3
   },
   "file_extension": ".py",
   "mimetype": "text/x-python",
   "name": "python",
   "nbconvert_exporter": "python",
   "pygments_lexer": "ipython3",
   "version": "3.7.3"
  }
 },
 "nbformat": 4,
 "nbformat_minor": 2
}
