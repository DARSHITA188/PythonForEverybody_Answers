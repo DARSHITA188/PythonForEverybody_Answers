{
 "cells": [
  {
   "cell_type": "code",
   "execution_count": 3,
   "metadata": {},
   "outputs": [
    {
     "name": "stdout",
     "output_type": "stream",
     "text": [
      "Enter a number: 3\n",
      "Enter a number: 5\n",
      "Enter a number: 6\n",
      "Enter a number: done\n",
      "total 14.0 count 3 average 4.666666666666667\n"
     ]
    }
   ],
   "source": [
    "total = 0\n",
    "count = 0\n",
    "average = 0\n",
    "\n",
    "while True:\n",
    "  try:\n",
    "    x = input(\"Enter a number: \")\n",
    "    if (x == \"done\"): \n",
    "     break\n",
    "    value = float(x)\n",
    "    total = total + value\n",
    "    count = count + 1\n",
    "    average = total / count\n",
    "  except:\n",
    "    print(\"Invalid input.\")\n",
    "print(\"total\",total,\"count\",count,\"average\",average)"
   ]
  },
  {
   "cell_type": "code",
   "execution_count": 6,
   "metadata": {},
   "outputs": [
    {
     "name": "stdout",
     "output_type": "stream",
     "text": [
      "Enter a number \n",
      "4\n",
      "Enter a number \n",
      "7\n",
      "Enter a number \n",
      "9\n",
      "Enter a number \n",
      "done\n",
      "count 3 largest 9.0 smallest 4.0\n"
     ]
    }
   ],
   "source": [
    "count = 0\n",
    "total = 0\n",
    "avg = 0\n",
    "largest = None\n",
    "smallest = None\n",
    "keepgoing = True\n",
    "while keepgoing:\n",
    "  prompt1 = 'Enter a number \\n'\n",
    "  line = input (prompt1)\n",
    "  try:\n",
    "     line = float(line)\n",
    "     count = count + 1 \n",
    "     total = total + line\n",
    "     avg = total / count\n",
    "     if smallest is None or line < smallest:\n",
    "      smallest = line\n",
    "     if largest is None or line > largest:\n",
    "      largest = line\n",
    "  except:\n",
    "    if line == 'Done' or line == 'done':\n",
    "      break\n",
    "    else:\n",
    "      print('Invalid Input')\n",
    "      continue\n",
    "print(\"count\",count,\"largest\",largest,\"smallest\",smallest)\n"
   ]
  }
 ],
 "metadata": {
  "kernelspec": {
   "display_name": "Python 3",
   "language": "python",
   "name": "python3"
  },
  "language_info": {
   "codemirror_mode": {
    "name": "ipython",
    "version": 3
   },
   "file_extension": ".py",
   "mimetype": "text/x-python",
   "name": "python",
   "nbconvert_exporter": "python",
   "pygments_lexer": "ipython3",
   "version": "3.7.3"
  }
 },
 "nbformat": 4,
 "nbformat_minor": 2
}
