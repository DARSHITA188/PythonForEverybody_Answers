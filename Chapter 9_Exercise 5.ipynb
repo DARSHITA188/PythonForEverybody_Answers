{
 "cells": [
  {
   "cell_type": "code",
   "execution_count": 1,
   "metadata": {},
   "outputs": [
    {
     "name": "stdout",
     "output_type": "stream",
     "text": [
      "enter file name: mbox-short.txt\n",
      "Dictionary content:  {'uct.ac.za': 6, 'media.berkeley.edu': 4, 'umich.edu': 7, 'iupui.edu': 8, 'caret.cam.ac.uk': 1, 'gmail.com': 1}\n"
     ]
    }
   ],
   "source": [
    "count = 0\n",
    "d = dict() \n",
    "fname = input(\"enter file name: \")\n",
    "try:\n",
    "    fhand = open(fname) \n",
    "    for line in fhand: \n",
    "        if line.startswith('From '):\n",
    "            words = line.split(\" \")\n",
    "            string = words[1]\n",
    "            apos = string.find('@')\n",
    "            substr = string[apos+1:]\n",
    "            if substr not in d: \n",
    "                d[substr] = 1 \n",
    "            else: \n",
    "                d[substr] = d[substr] + 1\n",
    "    \n",
    "    print(\"Dictionary content: \",d)\n",
    "except:\n",
    "    print(\"file not there\")"
   ]
  },
  {
   "cell_type": "code",
   "execution_count": null,
   "metadata": {},
   "outputs": [],
   "source": []
  }
 ],
 "metadata": {
  "kernelspec": {
   "display_name": "Python 3",
   "language": "python",
   "name": "python3"
  },
  "language_info": {
   "codemirror_mode": {
    "name": "ipython",
    "version": 3
   },
   "file_extension": ".py",
   "mimetype": "text/x-python",
   "name": "python",
   "nbconvert_exporter": "python",
   "pygments_lexer": "ipython3",
   "version": "3.7.3"
  }
 },
 "nbformat": 4,
 "nbformat_minor": 2
}
