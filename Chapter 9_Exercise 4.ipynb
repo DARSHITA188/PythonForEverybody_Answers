{
 "cells": [
  {
   "cell_type": "code",
   "execution_count": 1,
   "metadata": {},
   "outputs": [
    {
     "name": "stdout",
     "output_type": "stream",
     "text": [
      "enter file name: mbox-short.txt\n",
      "Sender with most messages:  ray@media.berkeley.edu\n",
      "count:  5\n"
     ]
    }
   ],
   "source": [
    "\n",
    "count = 0\n",
    "d = dict() \n",
    "fname = input(\"enter file name: \")\n",
    "try:\n",
    "    fhand = open(fname) \n",
    "    for line in fhand: \n",
    "        if line.startswith('From '):\n",
    "            words = line.split(\" \")\n",
    "            \n",
    "            \n",
    "            if words[1] not in d: \n",
    "                d[words[1]] = 1 \n",
    "            else: \n",
    "                d[words[1]] = d[words[1]] + 1 \n",
    "    \n",
    "    #print(d)\n",
    "    largest = None \n",
    "    for key in d: \n",
    "        if largest is None or d[key] > largest : \n",
    "            largest = d[key] \n",
    "             \n",
    "    \n",
    "    print(\"Sender with most messages: \", key)\n",
    "    print(\"count: \", largest)\n",
    "    \n",
    "\n",
    "                  \n",
    "except:\n",
    "    print(\"file not\") \n",
    "\n",
    "\n",
    "\n"
   ]
  },
  {
   "cell_type": "code",
   "execution_count": null,
   "metadata": {},
   "outputs": [],
   "source": []
  },
  {
   "cell_type": "code",
   "execution_count": null,
   "metadata": {},
   "outputs": [],
   "source": []
  }
 ],
 "metadata": {
  "kernelspec": {
   "display_name": "Python 3",
   "language": "python",
   "name": "python3"
  },
  "language_info": {
   "codemirror_mode": {
    "name": "ipython",
    "version": 3
   },
   "file_extension": ".py",
   "mimetype": "text/x-python",
   "name": "python",
   "nbconvert_exporter": "python",
   "pygments_lexer": "ipython3",
   "version": "3.7.3"
  }
 },
 "nbformat": 4,
 "nbformat_minor": 2
}
