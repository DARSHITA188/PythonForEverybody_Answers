{
 "cells": [
  {
   "cell_type": "code",
   "execution_count": 4,
   "metadata": {},
   "outputs": [
    {
     "name": "stdout",
     "output_type": "stream",
     "text": [
      "Enter file name: file.txt\n",
      "0.18518518518518517 a\n",
      "0.14814814814814814 k\n",
      "0.1111111111111111 s\n",
      "0.07407407407407407 x\n",
      "0.07407407407407407 g\n",
      "0.07407407407407407 f\n",
      "0.07407407407407407 e\n",
      "0.07407407407407407 d\n",
      "0.037037037037037035 m\n",
      "0.037037037037037035 l\n",
      "0.037037037037037035 j\n",
      "0.037037037037037035 c\n",
      "0.037037037037037035 b\n"
     ]
    }
   ],
   "source": [
    "import string\n",
    "\n",
    "count = 0\n",
    "\n",
    "count = 0                          \n",
    "dictionary = dict()\n",
    "var = list()\n",
    "file_name = input('File name is: ')\n",
    "\n",
    "try:\n",
    "    fhand = open(file_name)\n",
    "    \n",
    "except FileNotFoundError:\n",
    "    print('Error. File not found, Please enter valid name', file_name)\n",
    "    exit()\n",
    "\n",
    "for line in fhand:\n",
    "    line = line.translate(str.maketrans('', '', string.digits))\n",
    "    line = line.translate(str.maketrans('', '', string.punctuation))\n",
    "    line = line.lower()\n",
    "    words = line.split()\n",
    "    \n",
    "    for word in words:\n",
    "        for letter in word:\n",
    "            \n",
    "            count += 1\n",
    "            \n",
    "            if letter not in dictionary:\n",
    "                dictionary[letter] = 1\n",
    "            \n",
    "            else:\n",
    "                dictionary[letter] += 1\n",
    "\n",
    "for key, val in list(dictionary.items()):\n",
    "    var.append((val / count, key))\n",
    "\n",
    "var.sort(reverse=True)\n",
    "\n",
    "for key, val in var:\n",
    "    print(key, val)\n"
   ]
  },
  {
   "cell_type": "code",
   "execution_count": null,
   "metadata": {},
   "outputs": [],
   "source": []
  }
 ],
 "metadata": {
  "kernelspec": {
   "display_name": "Python 3",
   "language": "python",
   "name": "python3"
  },
  "language_info": {
   "codemirror_mode": {
    "name": "ipython",
    "version": 3
   },
   "file_extension": ".py",
   "mimetype": "text/x-python",
   "name": "python",
   "nbconvert_exporter": "python",
   "pygments_lexer": "ipython3",
   "version": "3.7.3"
  }
 },
 "nbformat": 4,
 "nbformat_minor": 2
}
