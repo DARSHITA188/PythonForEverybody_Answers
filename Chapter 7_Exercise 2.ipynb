{
 "cells": [
  {
   "cell_type": "code",
   "execution_count": 1,
   "metadata": {},
   "outputs": [
    {
     "name": "stdout",
     "output_type": "stream",
     "text": [
      "enter file name: mbox-short.txt\n",
      "average X-DSPAM-Confidence:  0.7507185185185187\n"
     ]
    }
   ],
   "source": [
    "count = 0\n",
    "sum=0\n",
    "\n",
    "fname = input(\"enter file name: \")\n",
    "try:\n",
    "    fhand = open(fname) \n",
    "    for line in fhand: \n",
    "        if line.startswith('X-DSPAM-Confidence:'): \n",
    "            apos = line.find(':')\n",
    "            bpos = line.find('.',apos)\n",
    "            substr=line[apos+2:bpos+5]\n",
    "            substr = float(substr)\n",
    "            sum = sum+substr\n",
    "            count = count+1\n",
    "    print(\"average X-DSPAM-Confidence: \", sum/count)\n",
    "    \n",
    "except:\n",
    "    print(\"file doesn't exists\")\n",
    "\n",
    "\n",
    "        \n",
    "        "
   ]
  },
  {
   "cell_type": "code",
   "execution_count": null,
   "metadata": {},
   "outputs": [],
   "source": []
  },
  {
   "cell_type": "code",
   "execution_count": null,
   "metadata": {},
   "outputs": [],
   "source": []
  }
 ],
 "metadata": {
  "kernelspec": {
   "display_name": "Python 3",
   "language": "python",
   "name": "python3"
  },
  "language_info": {
   "codemirror_mode": {
    "name": "ipython",
    "version": 3
   },
   "file_extension": ".py",
   "mimetype": "text/x-python",
   "name": "python",
   "nbconvert_exporter": "python",
   "pygments_lexer": "ipython3",
   "version": "3.7.3"
  }
 },
 "nbformat": 4,
 "nbformat_minor": 2
}
